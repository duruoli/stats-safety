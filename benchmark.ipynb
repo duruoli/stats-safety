{
 "cells": [
  {
   "cell_type": "code",
   "execution_count": 16,
   "metadata": {},
   "outputs": [],
   "source": [
    "import json\n",
    "import torch\n",
    "from transformers import AutoModelForCausalLM, AutoTokenizer\n",
    "import pandas as pd\n",
    "import numpy as np\n",
    "import re\n",
    "import os\n",
    "from sklearn.metrics import brier_score_loss, log_loss"
   ]
  },
  {
   "cell_type": "code",
   "execution_count": 46,
   "metadata": {},
   "outputs": [],
   "source": [
    "# Load datasets\n",
    "with open(\"forecastbench-datasets/datasets/question_sets/2024-12-08-human.json\", \"r\") as f:\n",
    "    questions_data = json.load(f)\n",
    "\n",
    "with open(\"forecastbench-datasets/datasets/resolution_sets/2024-12-08_resolution_set.json\", \"r\") as f:\n",
    "    resolutions_data = json.load(f)\n",
    "resolution_dict = {}\n",
    "for resolution in resolutions_data[\"resolutions\"]:\n",
    "    resolution_dict[str(resolution[\"id\"])] = resolution\n",
    "\n",
    "# Define models to evaluate\n",
    "models = [\n",
    "    \"Google/gemma-3-1b-it\",\n",
    "    \"Duruo/gemma-3-finetune-quant\",\n",
    "    \"Duruo/gemma-3-finetune-quant-158steps\"\n",
    "]\n"
   ]
  },
  {
   "cell_type": "code",
   "execution_count": 48,
   "metadata": {},
   "outputs": [
    {
     "name": "stdout",
     "output_type": "stream",
     "text": [
      "Direct ID matches: 174/200\n"
     ]
    }
   ],
   "source": [
    "# Count potential matches\n",
    "matches = 0\n",
    "for question in questions_data[\"questions\"]:\n",
    "    for resolution in resolutions_data[\"resolutions\"]:\n",
    "        if question[\"id\"] == resolution[\"id\"]:\n",
    "            matches += 1\n",
    "            break\n",
    "        \n",
    "print(f\"Direct ID matches: {matches}/{len(questions_data['questions'])}\")\n"
   ]
  },
  {
   "cell_type": "code",
   "execution_count": 64,
   "metadata": {},
   "outputs": [],
   "source": [
    "# Results storage\n",
    "results = {model_id: [] for model_id in models}\n",
    "os.makedirs(\"forecastbench_results\", exist_ok=True)"
   ]
  },
  {
   "cell_type": "code",
   "execution_count": 65,
   "metadata": {},
   "outputs": [
    {
     "name": "stdout",
     "output_type": "stream",
     "text": [
      "Testing 20 resolved questions\n",
      "Testing model: Google/gemma-3-1b-it\n"
     ]
    },
    {
     "name": "stderr",
     "output_type": "stream",
     "text": [
      "Google/gemma-3-1b-it: 100%|██████████| 20/20 [00:16<00:00,  1.21it/s]\n"
     ]
    },
    {
     "name": "stdout",
     "output_type": "stream",
     "text": [
      "Testing model: Duruo/gemma-3-finetune-quant\n"
     ]
    },
    {
     "name": "stderr",
     "output_type": "stream",
     "text": [
      "Duruo/gemma-3-finetune-quant: 100%|██████████| 20/20 [00:16<00:00,  1.21it/s]\n"
     ]
    },
    {
     "name": "stdout",
     "output_type": "stream",
     "text": [
      "Testing model: Duruo/gemma-3-finetune-quant-158steps\n"
     ]
    },
    {
     "name": "stderr",
     "output_type": "stream",
     "text": [
      "Duruo/gemma-3-finetune-quant-158steps: 100%|██████████| 20/20 [00:16<00:00,  1.21it/s]"
     ]
    },
    {
     "name": "stdout",
     "output_type": "stream",
     "text": [
      "\n",
      "Example outputs from each model:\n",
      "\n",
      "Google/gemma-3-1b-it:\n",
      "Question: Will the \"Nintendo Switch 2\" (or other successor) be revealed before end of year?...\n",
      "Response: Question: Will the \"Nintendo Switch 2\" (or other successor) be revealed before end of year?\n",
      "\n",
      " Provide with ONE probability between 0 and 1: 0.8.\n",
      "\n",
      "**Answer:** 0\n",
      "Extracted probability: 0.8\n",
      "\n",
      "Duruo/gemma-3-finetune-quant:\n",
      "Question: Will the \"Nintendo Switch 2\" (or other successor) be revealed before end of year?...\n",
      "Response: Question: Will the \"Nintendo Switch 2\" (or other successor) be revealed before end of year?\n",
      "\n",
      " Provide with ONE probability between 0 and 1: 0.5.\n",
      "\n",
      "**Answer:** 0\n",
      "Extracted probability: 0.5\n",
      "\n",
      "Duruo/gemma-3-finetune-quant-158steps:\n",
      "Question: Will the \"Nintendo Switch 2\" (or other successor) be revealed before end of year?...\n",
      "Response: Question: Will the \"Nintendo Switch 2\" (or other successor) be revealed before end of year?\n",
      "\n",
      " Provide with ONE probability between 0 and 1: 0.8, 0.2, \n",
      "Extracted probability: 0.8\n"
     ]
    },
    {
     "name": "stderr",
     "output_type": "stream",
     "text": [
      "\n"
     ]
    }
   ],
   "source": [
    "from tqdm import tqdm\n",
    "# Find resolved questions\n",
    "example_outputs = {}\n",
    "resolved_questions = []\n",
    "for question in questions_data[\"questions\"]:\n",
    "    q_id = question[\"id\"]\n",
    "    if q_id in resolution_dict and resolution_dict[q_id].get(\"resolved\", False):\n",
    "        resolved_questions.append({\n",
    "            \"id\": q_id,\n",
    "            \"text\": question[\"question\"],\n",
    "            \"background\": question.get(\"background\", \"\"),\n",
    "            \"ground_truth\": resolution_dict[q_id][\"resolved_to\"]\n",
    "        })\n",
    "\n",
    "# Limit to 50 questions\n",
    "test_questions = resolved_questions[:20]\n",
    "print(f\"Testing {len(test_questions)} resolved questions\")\n",
    "\n",
    "# Get raw model response for tracking example outputs\n",
    "def get_model_response(model, tokenizer, question, background=\"\"):\n",
    "    prompt = f\"Question: {question}\\n\\n Provide with ONE probability between 0 and 1: \"\n",
    "    inputs = tokenizer(prompt, return_tensors=\"pt\").to(model.device)\n",
    "    \n",
    "    with torch.no_grad():\n",
    "        outputs = model.generate(**inputs, max_new_tokens=10)\n",
    "    \n",
    "    return tokenizer.decode(outputs[0], skip_special_tokens=True)\n",
    "\n",
    "# Extract probability from response\n",
    "def extract_probability(response):\n",
    "    match = re.search(r\"(\\d*\\.\\d+)\", response)\n",
    "    if match:\n",
    "        try:\n",
    "            return float(match.group(1))\n",
    "        except ValueError:\n",
    "            return None\n",
    "    return None\n",
    "\n",
    "# Process questions with progress bar\n",
    "for model_id in models:\n",
    "    print(f\"Testing model: {model_id}\")\n",
    "    \n",
    "    # Load model\n",
    "    tokenizer = AutoTokenizer.from_pretrained(model_id)\n",
    "    model = AutoModelForCausalLM.from_pretrained(\n",
    "        model_id, \n",
    "        torch_dtype=torch.float16,\n",
    "        device_map=\"mps\" if torch.backends.mps.is_available() else \"auto\"\n",
    "    )\n",
    "    \n",
    "    # Process questions with progress bar\n",
    "    for q in tqdm(test_questions, desc=f\"{model_id}\"):\n",
    "        # Get model response\n",
    "        response = get_model_response(model, tokenizer, q[\"text\"], q[\"background\"])\n",
    "        prediction = extract_probability(response)\n",
    "        \n",
    "        # Save first example from each model\n",
    "        if model_id not in example_outputs:\n",
    "            example_outputs[model_id] = {\n",
    "                \"question\": q[\"text\"],\n",
    "                \"response\": response,\n",
    "                \"prediction\": prediction\n",
    "            }\n",
    "        \n",
    "        # Save result\n",
    "        results[model_id].append({\n",
    "            \"id\": q[\"id\"],\n",
    "            \"prediction\": prediction,\n",
    "            \"ground_truth\": q[\"ground_truth\"]\n",
    "        })\n",
    "    \n",
    "    # Clean up\n",
    "    del model, tokenizer\n",
    "    torch.mps.empty_cache() if torch.backends.mps.is_available() else None\n",
    "\n",
    "# Show example outputs\n",
    "print(\"\\nExample outputs from each model:\")\n",
    "for model_id, example in example_outputs.items():\n",
    "    print(f\"\\n{model_id}:\")\n",
    "    print(f\"Question: {example['question'][:100]}...\")\n",
    "    print(f\"Response: {example['response']}\")\n",
    "    print(f\"Extracted probability: {example['prediction']}\")"
   ]
  },
  {
   "cell_type": "code",
   "execution_count": 66,
   "metadata": {},
   "outputs": [
    {
     "name": "stdout",
     "output_type": "stream",
     "text": [
      "Found 3 model result files\n",
      "Google/gemma-3-1b-it: 10 valid predictions\n",
      "Duruo/gemma-3-finetune-quant: 11 valid predictions\n",
      "Duruo/gemma-3-finetune-quant-158steps: 11 valid predictions\n",
      "\n",
      "Evaluation Results:\n",
      "Google/gemma-3-1b-it:\n",
      "  - Valid predictions: 10\n",
      "  - Brier score: 0.2541\n",
      "  - Cross entropy: 4.0581\n",
      "  - Mean prediction: 0.5040\n",
      "Duruo/gemma-3-finetune-quant:\n",
      "  - Valid predictions: 11\n",
      "  - Brier score: 0.3870\n",
      "  - Cross entropy: 10.1784\n",
      "  - Mean prediction: 0.4736\n",
      "Duruo/gemma-3-finetune-quant-158steps:\n",
      "  - Valid predictions: 11\n",
      "  - Brier score: 0.3537\n",
      "  - Cross entropy: 7.0429\n",
      "  - Mean prediction: 0.5764\n",
      "Saved plot to forecastbench_results/model_comparison.png\n"
     ]
    },
    {
     "data": {
      "image/png": "[encoded data removed]",
      "text/plain": [
       "<Figure size 1000x600 with 1 Axes>"
      ]
     },
     "metadata": {},
     "output_type": "display_data"
    }
   ],
   "source": [
    "import json\n",
    "import re\n",
    "import os\n",
    "import numpy as np\n",
    "from sklearn.metrics import brier_score_loss, log_loss\n",
    "import matplotlib.pyplot as plt\n",
    "\n",
    "# Function to extract probability from text response\n",
    "def extract_probability(text):\n",
    "    if not isinstance(text, str):\n",
    "        return None\n",
    "        \n",
    "    # Look for percentage\n",
    "    percentage_match = re.search(r'(\\d+)%', text)\n",
    "    if percentage_match:\n",
    "        try:\n",
    "            return float(percentage_match.group(1)) / 100\n",
    "        except:\n",
    "            pass\n",
    "    \n",
    "    # Look for decimal number\n",
    "    decimal_match = re.search(r'(\\d*\\.\\d+)', text)\n",
    "    if decimal_match:\n",
    "        try:\n",
    "            return float(decimal_match.group(1))\n",
    "        except:\n",
    "            pass\n",
    "            \n",
    "    # Look for whole number probability\n",
    "    if '0.1' in text or '0.2' in text or '0.3' in text:\n",
    "        whole_match = re.search(r'0\\.(\\d+)', text)\n",
    "        if whole_match:\n",
    "            try:\n",
    "                return float('0.' + whole_match.group(1))\n",
    "            except:\n",
    "                pass\n",
    "                \n",
    "    return None\n",
    "\n",
    "# Process all JSON files in the results directory\n",
    "results_dir = \"forecastbench_results\"\n",
    "metrics = {}\n",
    "\n",
    "model_files = [f for f in os.listdir(results_dir) if f.endswith('.json')]\n",
    "print(f\"Found {len(model_files)} model result files\")\n",
    "\n",
    "for model_file in model_files:\n",
    "    model_id = model_file.replace('.json', '').replace('_', '/')\n",
    "    \n",
    "    # Load predictions\n",
    "    with open(os.path.join(results_dir, model_file), 'r') as f:\n",
    "        predictions = json.load(f)\n",
    "    \n",
    "    # Extract numerical predictions\n",
    "    valid_pairs = []\n",
    "    for p in predictions:\n",
    "        if isinstance(p[\"prediction\"], str):\n",
    "            extracted = extract_probability(p[\"prediction\"])\n",
    "            if extracted is not None:\n",
    "                valid_pairs.append((extracted, p[\"ground_truth\"]))\n",
    "        elif isinstance(p[\"prediction\"], (int, float)):\n",
    "            valid_pairs.append((p[\"prediction\"], p[\"ground_truth\"]))\n",
    "    \n",
    "    if valid_pairs:\n",
    "        y_pred = [p for p, _ in valid_pairs]\n",
    "        y_true = [t for _, t in valid_pairs]\n",
    "        \n",
    "        metrics[model_id] = {\n",
    "            \"count\": len(valid_pairs),\n",
    "            \"brier_score\": float(brier_score_loss(y_true, y_pred)),\n",
    "            \"cross_entropy\": float(log_loss(y_true, y_pred)),\n",
    "            \"mean_prediction\": float(np.mean(y_pred))\n",
    "        }\n",
    "        \n",
    "        print(f\"{model_id}: {len(valid_pairs)} valid predictions\")\n",
    "\n",
    "# Print results\n",
    "print(\"\\nEvaluation Results:\")\n",
    "for model_id, stats in metrics.items():\n",
    "    print(f\"{model_id}:\")\n",
    "    print(f\"  - Valid predictions: {stats['count']}\")\n",
    "    print(f\"  - Brier score: {stats['brier_score']:.4f}\")\n",
    "    print(f\"  - Cross entropy: {stats['cross_entropy']:.4f}\")\n",
    "    print(f\"  - Mean prediction: {stats['mean_prediction']:.4f}\")\n",
    "\n",
    "# Save metrics\n",
    "with open(os.path.join(results_dir, \"evaluation_metrics.json\"), \"w\") as f:\n",
    "    json.dump(metrics, f, indent=2)\n",
    "\n",
    "# Plot comparison\n",
    "plt.figure(figsize=(10, 6))\n",
    "models = list(metrics.keys())\n",
    "brier_scores = [metrics[m][\"brier_score\"] for m in models]\n",
    "cross_entropy = [metrics[m][\"cross_entropy\"] for m in models]\n",
    "\n",
    "x = np.arange(len(models))\n",
    "width = 0.35\n",
    "\n",
    "plt.bar(x - width/2, brier_scores, width, label='Brier Score')\n",
    "plt.bar(x + width/2, cross_entropy, width, label='Cross Entropy')\n",
    "plt.xticks(x, [m.split('/')[-1] for m in models], rotation=45)\n",
    "plt.legend()\n",
    "plt.title('Model Performance Comparison')\n",
    "plt.tight_layout()\n",
    "plt.savefig(os.path.join(results_dir, \"model_comparison.png\"))\n",
    "print(f\"Saved plot to {os.path.join(results_dir, 'model_comparison.png')}\")"
   ]
  }
 ],
 "metadata": {
  "kernelspec": {
   "display_name": "stats-safety",
   "language": "python",
   "name": "python3"
  },
  "language_info": {
   "codemirror_mode": {
    "name": "ipython",
    "version": 3
   },
   "file_extension": ".py",
   "mimetype": "text/x-python",
   "name": "python",
   "nbconvert_exporter": "python",
   "pygments_lexer": "ipython3",
   "version": "3.13.1"
  }
 },
 "nbformat": 4,
 "nbformat_minor": 2
}
