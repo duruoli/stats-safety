{
 "cells": [
  {
   "cell_type": "code",
   "execution_count": 1,
   "metadata": {},
   "outputs": [
    {
     "name": "stderr",
     "output_type": "stream",
     "text": [
      "/Users/duruoli/A/A李杜若/1-科研/PhD/0/1-code/stats-safety/stats-safety/lib/python3.13/site-packages/tqdm/auto.py:21: TqdmWarning: IProgress not found. Please update jupyter and ipywidgets. See https://ipywidgets.readthedocs.io/en/stable/user_install.html\n",
      "  from .autonotebook import tqdm as notebook_tqdm\n"
     ]
    }
   ],
   "source": [
    "# Load the converted QuantQA dataset\n",
    "from datasets import load_dataset, Dataset\n",
    "import pandas as pd\n",
    "import re\n",
    "import json\n",
    "\n",
    "# Load the dataset we created in the previous step\n",
    "# Option 1: Load from disk if you saved it as a Hugging Face dataset\n",
    "dataset = Dataset.load_from_disk(\"quant_qa_dataset\")\n"
   ]
  },
  {
   "cell_type": "code",
   "execution_count": 3,
   "metadata": {},
   "outputs": [
    {
     "name": "stdout",
     "output_type": "stream",
     "text": [
      "Dataset size: 78 problems\n",
      "\n",
      "Example structure:\n",
      "{'id': '3 Die Minimum', 'Problem': 'Suppose you roll three fair 100-sided die. What is the expected value of the lowest roll?', 'Rationale': \"Let's call the value of the minimum of the three die X. Using expectation by summation of survival we get:\\n\\nE[X] = ∑(k=1 to 100) P(X ≥ k)\\n\\nThe probability that X is at least k is ((100-k+1)^3)/(100^3) so,\\n\\nE[X] = (100^3)/(100^3) + (99^3)/(100^3) + (98^3)/(100^3) + ... + (1^3)/(100^3)\\n     = (1)/(100^3) · (100^3 + 99^3 + 98^3 + ... + 1^3)\\n\\nThe sum of cubes from 1 to n can be rewritten to the square of the sum from 1 to n thus,\\n\\nE[X] = ((1 + 2 + 3 + ... + 100)^2)/(100^3)\\n    ⟹ ∑(k=1 to 100) k = 100 · (1 + 100)/2 = 5050\\n    ⟹ E[X] = (5050^2)/(100^3) = 25.5025\", 'correct': '25.5025', 'annotated_formula': '', 'linear_formula': '', 'category': 'probability'}\n"
     ]
    }
   ],
   "source": [
    "# Print basic information\n",
    "print(f\"Dataset size: {len(dataset)} problems\")\n",
    "print(\"\\nExample structure:\")\n",
    "print(dataset[0])\n"
   ]
  },
  {
   "cell_type": "code",
   "execution_count": 5,
   "metadata": {},
   "outputs": [
    {
     "name": "stderr",
     "output_type": "stream",
     "text": [
      "Map: 100%|██████████| 78/78 [00:00<00:00, 8456.26 examples/s]"
     ]
    },
    {
     "name": "stdout",
     "output_type": "stream",
     "text": [
      "\n",
      "Example of prepared data:\n",
      "{'id': '3 Die Minimum', 'Problem': 'Suppose you roll three fair 100-sided die. What is the expected value of the lowest roll?', 'Rationale': \"Let's call the value of the minimum of the three die X. Using expectation by summation of survival we get:\\n\\nE[X] = ∑(k=1 to 100) P(X ≥ k)\\n\\nThe probability that X is at least k is ((100-k+1)^3)/(100^3) so,\\n\\nE[X] = (100^3)/(100^3) + (99^3)/(100^3) + (98^3)/(100^3) + ... + (1^3)/(100^3)\\n     = (1)/(100^3) · (100^3 + 99^3 + 98^3 + ... + 1^3)\\n\\nThe sum of cubes from 1 to n can be rewritten to the square of the sum from 1 to n thus,\\n\\nE[X] = ((1 + 2 + 3 + ... + 100)^2)/(100^3)\\n    ⟹ ∑(k=1 to 100) k = 100 · (1 + 100)/2 = 5050\\n    ⟹ E[X] = (5050^2)/(100^3) = 25.5025\", 'correct': '25.5025', 'annotated_formula': '', 'linear_formula': '', 'category': 'probability', 'prompt': [{'content': 'You are given a statistical reasoning problem.\\nThink about the problem and provide your working out step by step.\\nPlace your reasoning between <start_working_out> and <end_working_out>.\\nThen, provide your final answer between <SOLUTION> and </SOLUTION>.\\nMake sure your final answer is clear and concise.', 'role': 'system'}, {'content': 'Suppose you roll three fair 100-sided die. What is the expected value of the lowest roll?', 'role': 'user'}], 'answer': '25.5025'}\n"
     ]
    },
    {
     "name": "stderr",
     "output_type": "stream",
     "text": [
      "\n"
     ]
    }
   ],
   "source": [
    "# Define the special tokens for reasoning and solution sections\n",
    "reasoning_start = \"<start_working_out>\"\n",
    "reasoning_end   = \"<end_working_out>\"\n",
    "solution_start = \"<SOLUTION>\"\n",
    "solution_end = \"</SOLUTION>\"\n",
    "\n",
    "# Define the system prompt\n",
    "system_prompt = \\\n",
    "f\"\"\"You are given a statistical reasoning problem.\n",
    "Think about the problem and provide your working out step by step.\n",
    "Place your reasoning between {reasoning_start} and {reasoning_end}.\n",
    "Then, provide your final answer between {solution_start} and {solution_end}.\n",
    "Make sure your final answer is clear and concise.\"\"\"\n",
    "\n",
    "# Prepare data for GRPO training\n",
    "def prepare_data(example):\n",
    "    # Use the problem as input\n",
    "    question = example['Problem']\n",
    "    \n",
    "    # Get the answer\n",
    "    answer = example['correct']\n",
    "    \n",
    "    # Create GRPO-required prompt format\n",
    "    return {\n",
    "        \"prompt\": [\n",
    "            {\"role\": \"system\", \"content\": system_prompt},\n",
    "            {\"role\": \"user\", \"content\": question}\n",
    "        ],\n",
    "        \"answer\": answer\n",
    "    }\n",
    "\n",
    "# Apply the transformation\n",
    "prepared_dataset = dataset.map(prepare_data)\n",
    "\n",
    "# Print an example of the prepared data\n",
    "print(\"\\nExample of prepared data:\")\n",
    "print(prepared_dataset[0])\n",
    "\n",
    "# Define the regex pattern for format checking\n",
    "match_format = re.compile(\n",
    "    rf\"^[\\s]{{0,}}\"\\\n",
    "    rf\"{reasoning_start}.+?{reasoning_end}.*?\"\\\n",
    "    rf\"{solution_start}(.+?){solution_end}\"\\\n",
    "    rf\"[\\s]{{0,}}$\",\n",
    "    flags = re.MULTILINE | re.DOTALL\n",
    ")\n"
   ]
  },
  {
   "cell_type": "code",
   "execution_count": 7,
   "metadata": {},
   "outputs": [
    {
     "name": "stderr",
     "output_type": "stream",
     "text": [
      "Saving the dataset (1/1 shards): 100%|██████████| 78/78 [00:00<00:00, 18757.85 examples/s]"
     ]
    },
    {
     "name": "stdout",
     "output_type": "stream",
     "text": [
      "\n",
      "Prepared dataset saved to quantqa_grpo_dataset/\n",
      "\n",
      "Testing format regex:\n",
      "Match found: True\n",
      "Extracted answer: 42\n"
     ]
    },
    {
     "name": "stderr",
     "output_type": "stream",
     "text": [
      "\n"
     ]
    }
   ],
   "source": [
    "# Define reward functions for GRPO\n",
    "\n",
    "# Function to check if the format is exactly matched\n",
    "def match_format_exactly(completions, **kwargs):\n",
    "    scores = []\n",
    "    for completion in completions:\n",
    "        score = 0\n",
    "        response = completion[0][\"content\"]\n",
    "        # Match if format is seen exactly!\n",
    "        if match_format.search(response) is not None: score += 3.0\n",
    "        scores.append(score)\n",
    "    return scores\n",
    "\n",
    "# Function to check if the format is approximately matched\n",
    "def match_format_approximately(completions, **kwargs):\n",
    "    scores = []\n",
    "    for completion in completions:\n",
    "        score = 0\n",
    "        response = completion[0][\"content\"]\n",
    "        # Count how many keywords are seen - we penalize if too many!\n",
    "        # If we see 1, then plus some points!\n",
    "        score += 0.5 if response.count(reasoning_start) == 1 else -0.5\n",
    "        score += 0.5 if response.count(reasoning_end)   == 1 else -0.5\n",
    "        score += 0.5 if response.count(solution_start)  == 1 else -0.5\n",
    "        score += 0.5 if response.count(solution_end)    == 1 else -0.5\n",
    "        scores.append(score)\n",
    "    return scores\n"
   ]
  },
  {
   "cell_type": "code",
   "execution_count": 1,
   "metadata": {},
   "outputs": [],
   "source": [
    "# Function to check the answer\n",
    "def check_answer(prompts, completions, answer, **kwargs):\n",
    "    responses = [completion[0][\"content\"] for completion in completions]\n",
    "\n",
    "    # Regular expression to extract the answer from the solution section\n",
    "    match_solution = re.compile(\n",
    "        rf\"{solution_start}(.*?){solution_end}\",\n",
    "        flags = re.MULTILINE | re.DOTALL\n",
    "    )\n",
    "\n",
    "    extracted_responses = [\n",
    "        solution.group(1).strip()\n",
    "        if (solution := match_solution.search(r)) is not None else None\n",
    "        for r in responses\n",
    "    ]\n",
    "\n",
    "    scores = []\n",
    "    # Print first example to help debug\n",
    "    if len(responses) > 0:\n",
    "        print('*'*20, f\"\\nQuestion:\\n{prompts[0][-1]['content']}\", \n",
    "              f\"\\nAnswer:\\n{answer[0]}\", \n",
    "              f\"\\nResponse:\\n{responses[0]}\", \n",
    "              f\"\\nExtracted:\\n{extracted_responses[0]}\")\n",
    "    \n",
    "    for guess, true_answer in zip(extracted_responses, answer):\n",
    "        if guess is None:\n",
    "            scores.append(-1.0)  # No answer found\n",
    "            continue\n",
    "        \n",
    "        # Split the reference answer by comma to allow multiple correct formats\n",
    "        alternative_answers = [alt.strip() for alt in true_answer.split(',')]\n",
    "        \n",
    "        # Try to convert to number for comparison with tolerance\n",
    "        def try_convert_to_float(s):\n",
    "            # Remove % if present and convert to decimal\n",
    "            s = s.strip()\n",
    "            if s.endswith('%'):\n",
    "                try:\n",
    "                    return float(s.rstrip('%')) / 100\n",
    "                except ValueError:\n",
    "                    return None\n",
    "            # Try to convert to float directly\n",
    "            try:\n",
    "                return float(s)\n",
    "            except ValueError:\n",
    "                return None\n",
    "        \n",
    "        # Try to convert guess to float\n",
    "        guess_value = try_convert_to_float(guess)\n",
    "        \n",
    "        # Check if any alternative answer matches\n",
    "        correct = False\n",
    "        for alt in alternative_answers:\n",
    "            # Check exact text match\n",
    "            if alt.lower() in guess.lower():\n",
    "                correct = True\n",
    "                break\n",
    "            \n",
    "            # Check numerical match with tolerance\n",
    "            alt_value = try_convert_to_float(alt)\n",
    "            if guess_value is not None and alt_value is not None:\n",
    "                if abs(guess_value - alt_value) <= 0.01:\n",
    "                    correct = True\n",
    "                    break\n",
    "        \n",
    "        scores.append(3.0 if correct else -1.0)\n",
    "    \n",
    "    return scores"
   ]
  },
  {
   "cell_type": "code",
   "execution_count": 8,
   "metadata": {},
   "outputs": [
    {
     "name": "stdout",
     "output_type": "stream",
     "text": [
      "\n",
      "Testing format regex:\n",
      "Match found: True\n",
      "Extracted answer: 42\n"
     ]
    }
   ],
   "source": [
    "\n",
    "# Test the format regex with a sample response\n",
    "test_response = f\"{reasoning_start}Let me calculate this step by step...{reasoning_end}\\n{solution_start}42{solution_end}\"\n",
    "print(\"\\nTesting format regex:\")\n",
    "match = match_format.search(test_response)\n",
    "print(f\"Match found: {match is not None}\")\n",
    "if match:\n",
    "    print(f\"Extracted answer: {match.group(1)}\")"
   ]
  }
 ],
 "metadata": {
  "kernelspec": {
   "display_name": "stats-safety",
   "language": "python",
   "name": "python3"
  },
  "language_info": {
   "codemirror_mode": {
    "name": "ipython",
    "version": 3
   },
   "file_extension": ".py",
   "mimetype": "text/x-python",
   "name": "python",
   "nbconvert_exporter": "python",
   "pygments_lexer": "ipython3",
   "version": "3.13.1"
  }
 },
 "nbformat": 4,
 "nbformat_minor": 2
}
