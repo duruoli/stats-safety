{
 "cells": [
  {
   "cell_type": "code",
   "execution_count": 6,
   "metadata": {},
   "outputs": [
    {
     "name": "stdout",
     "output_type": "stream",
     "text": [
      "DatasetDict({\n",
      "    train: Dataset({\n",
      "        features: ['Problem', 'Rationale', 'options', 'correct', 'annotated_formula', 'linear_formula', 'category'],\n",
      "        num_rows: 29837\n",
      "    })\n",
      "    test: Dataset({\n",
      "        features: ['Problem', 'Rationale', 'options', 'correct', 'annotated_formula', 'linear_formula', 'category'],\n",
      "        num_rows: 2985\n",
      "    })\n",
      "    validation: Dataset({\n",
      "        features: ['Problem', 'Rationale', 'options', 'correct', 'annotated_formula', 'linear_formula', 'category'],\n",
      "        num_rows: 4475\n",
      "    })\n",
      "})\n",
      "train split: 29837 examples\n",
      "test split: 2985 examples\n",
      "validation split: 4475 examples\n",
      "\n",
      "Example structure:\n",
      "{'Problem': 'average age of students of an adult school is 40 years . 120 new students whose average age is 32 years joined the school . as a result the average age is decreased by 4 years . find the number of students of the school after joining of the new students .', 'Rationale': '\"explanation : let the original no . of students be x . according to situation , 40 x + 120 * 32 = ( x + 120 ) 36 ⇒ x = 120 so , required no . of students after joining the new students = x + 120 = 240 . answer : d\"', 'options': 'a ) 1200 , b ) 120 , c ) 360 , d ) 240 , e ) none of these', 'correct': 'd', 'annotated_formula': 'multiply(divide(subtract(multiply(add(32, 4), 120), multiply(120, 32)), subtract(40, add(32, 4))), 4)', 'linear_formula': 'add(n2,n3)|multiply(n1,n2)|multiply(n1,#0)|subtract(n0,#0)|subtract(#2,#1)|divide(#4,#3)|multiply(n3,#5)|', 'category': 'general'}\n"
     ]
    }
   ],
   "source": [
    "# Load MathQA dataset\n",
    "from datasets import load_dataset\n",
    "math_qa = load_dataset(\"allenai/math_qa\")\n",
    "\n",
    "# Print basic dataset information\n",
    "print(math_qa)\n",
    "\n",
    "# Examine dataset splits and sizes\n",
    "for split in math_qa:\n",
    "    print(f\"{split} split: {len(math_qa[split])} examples\")\n",
    "\n",
    "# Look at the structure of a single example\n",
    "print(\"\\nExample structure:\")\n",
    "print(math_qa[\"train\"][1])\n"
   ]
  },
  {
   "cell_type": "code",
   "execution_count": 5,
   "metadata": {},
   "outputs": [
    {
     "name": "stdout",
     "output_type": "stream",
     "text": [
      "Train set: 450 probability problems\n",
      "Test set: 52 probability problems\n",
      "Validation set: 74 probability problems\n",
      "Total: 576 probability problems\n",
      "\n",
      "Sample probability problem:\n",
      "Problem      a gardener is going to plant 2 red rosebushes ...\n",
      "Rationale    we are asked to find the probability of one pa...\n",
      "correct                                                      b\n",
      "Name: 89, dtype: object\n",
      "\n",
      "Probability problems saved to CSV files\n"
     ]
    }
   ],
   "source": [
    "# Load MathQA dataset\n",
    "from datasets import load_dataset\n",
    "import pandas as pd\n",
    "\n",
    "# Load the dataset\n",
    "math_qa = load_dataset(\"allenai/math_qa\")\n",
    "\n",
    "# Convert to DataFrame for easier filtering\n",
    "train_df = pd.DataFrame(math_qa[\"train\"])\n",
    "test_df = pd.DataFrame(math_qa[\"test\"])\n",
    "dev_df = pd.DataFrame(math_qa[\"validation\"])\n",
    "\n",
    "# Filter probability problems from each split\n",
    "train_probability = train_df[train_df[\"category\"] == \"probability\"]\n",
    "test_probability = test_df[test_df[\"category\"] == \"probability\"]\n",
    "dev_probability = dev_df[dev_df[\"category\"] == \"probability\"]\n",
    "\n",
    "# Print statistics\n",
    "print(f\"Train set: {len(train_probability)} probability problems\")\n",
    "print(f\"Test set: {len(test_probability)} probability problems\")\n",
    "print(f\"Validation set: {len(dev_probability)} probability problems\")\n",
    "print(f\"Total: {len(train_probability) + len(test_probability) + len(dev_probability)} probability problems\")\n",
    "\n",
    "# Look at a sample problem\n",
    "print(\"\\nSample probability problem:\")\n",
    "print(train_probability.iloc[0][[\"Problem\", \"Rationale\", \"correct\"]])\n",
    "\n",
    "# Save to CSV if needed\n",
    "train_probability.to_csv(\"data/train_probability_problems.csv\", index=False)\n",
    "test_probability.to_csv(\"data/test_probability_problems.csv\", index=False)\n",
    "dev_probability.to_csv(\"data/dev_probability_problems.csv\", index=False)\n",
    "\n",
    "print(\"\\nProbability problems saved to CSV files\")"
   ]
  },
  {
   "cell_type": "code",
   "execution_count": 10,
   "metadata": {},
   "outputs": [
    {
     "name": "stderr",
     "output_type": "stream",
     "text": [
      "Filter: 100%|██████████| 37297/37297 [00:00<00:00, 197819.11 examples/s]\n"
     ]
    }
   ],
   "source": [
    "from datasets import load_dataset, concatenate_datasets\n",
    "\n",
    "# 加载完整数据集并合并所有拆分\n",
    "dataset = load_dataset(\"math_qa\")\n",
    "# 合并所有拆分\n",
    "full_dataset = concatenate_datasets([dataset[\"train\"], dataset[\"validation\"], dataset[\"test\"]])\n",
    "# 只选择概率类别\n",
    "prob_dataset = full_dataset.filter(lambda x: x[\"category\"] == \"probability\")\n"
   ]
  },
  {
   "cell_type": "code",
   "execution_count": 20,
   "metadata": {},
   "outputs": [
    {
     "name": "stderr",
     "output_type": "stream",
     "text": [
      "Map: 100%|██████████| 576/576 [00:00<00:00, 3231.38 examples/s]\n"
     ]
    }
   ],
   "source": [
    "reasoning_start = \"<start_working_out>\"\n",
    "reasoning_end   = \"<end_working_out>\"\n",
    "solution_start = \"<SOLUTION>\"\n",
    "solution_end = \"</SOLUTION>\"\n",
    "\n",
    "system_prompt = \\\n",
    "f\"\"\"You are given a multiple-choice problem with options labeled a, b, c, d, or e.\n",
    "Think about the problem and provide your working out step by step.\n",
    "Place your reasoning between {reasoning_start} and {reasoning_end}.\n",
    "Then, provide your answer as a SINGLE LETTER corresponding to the correct option (a, b, c, d, or e) between {solution_start} and {solution_end}.\n",
    "Do not include any other text in your solution - just the letter of the correct option.\"\"\"\n",
    "\n",
    "# 准备数据\n",
    "def prepare_data(example):\n",
    "    # 组合问题和选项作为输入问题\n",
    "    question = f\"{example['Problem']}\\n\\nOptions: {example['options']}\"\n",
    "    \n",
    "    # 从correct字段获取答案\n",
    "    answer = example['correct']\n",
    "    \n",
    "    # 创建GRPO训练所需的prompt格式\n",
    "    return {\n",
    "        \"prompt\": [\n",
    "            {\"role\": \"system\", \"content\": system_prompt},\n",
    "            {\"role\": \"user\", \"content\": question}\n",
    "        ],\n",
    "        \"answer\": answer\n",
    "    }\n",
    "\n",
    "# 应用转换\n",
    "prepared_dataset = prob_dataset.map(prepare_data)"
   ]
  },
  {
   "cell_type": "code",
   "execution_count": 13,
   "metadata": {},
   "outputs": [
    {
     "data": {
      "text/plain": [
       "{'Problem': 'in a throw of dice what is the probability of ge æ « ng number greater than 3',\n",
       " 'Rationale': '\"explanation : number greater than 3 is 4 , 5 , 6 , so only 3 number total cases of dice = [ 1,2 , 3,4 , 5,6 ] so probability = 3 / 6 = 1 / 2 answer : a\"',\n",
       " 'options': 'a ) 1 / 2 , b ) 1 / 3 , c ) 1 / 5 , d ) 1 / 6 , e ) none of these',\n",
       " 'correct': 'a',\n",
       " 'annotated_formula': 'divide(subtract(const_6, 3), const_6)',\n",
       " 'linear_formula': 'subtract(const_6,n0)|divide(#0,const_6)|',\n",
       " 'category': 'probability',\n",
       " 'prompt': [{'content': 'You are given a problem.\\nThink about the problem and provide your working out.\\nPlace it between <start_working_out> and <end_working_out>.\\nThen, provide your solution between <SOLUTION></SOLUTION>',\n",
       "   'role': 'system'},\n",
       "  {'content': 'in a throw of dice what is the probability of ge æ « ng number greater than 3\\n\\nOptions: a ) 1 / 2 , b ) 1 / 3 , c ) 1 / 5 , d ) 1 / 6 , e ) none of these',\n",
       "   'role': 'user'}],\n",
       " 'answer': 'a'}"
      ]
     },
     "execution_count": 13,
     "metadata": {},
     "output_type": "execute_result"
    }
   ],
   "source": [
    "prepared_dataset[1]"
   ]
  },
  {
   "cell_type": "code",
   "execution_count": 14,
   "metadata": {},
   "outputs": [],
   "source": [
    "import re\n",
    "\n",
    "match_format = re.compile(\n",
    "    rf\"^[\\s]{{0,}}\"\\\n",
    "    rf\"{reasoning_start}.+?{reasoning_end}.*?\"\\\n",
    "    rf\"{solution_start}(.+?){solution_end}\"\\\n",
    "    rf\"[\\s]{{0,}}$\",\n",
    "    flags = re.MULTILINE | re.DOTALL\n",
    ")"
   ]
  },
  {
   "cell_type": "code",
   "execution_count": 16,
   "metadata": {},
   "outputs": [
    {
     "data": {
      "text/plain": [
       "<re.Match object; span=(0, 71), match='<start_working_out>Let me think!<end_working_out>>"
      ]
     },
     "execution_count": 16,
     "metadata": {},
     "output_type": "execute_result"
    }
   ],
   "source": [
    "match_format.search(\n",
    "    \"<start_working_out>Let me think!<end_working_out>\"\\\n",
    "    \"<SOLUTION>c</SOLUTION>\",\n",
    ")"
   ]
  },
  {
   "cell_type": "code",
   "execution_count": 17,
   "metadata": {},
   "outputs": [],
   "source": [
    "def match_format_exactly(completions, **kwargs):\n",
    "    scores = []\n",
    "    for completion in completions:\n",
    "        score = 0\n",
    "        response = completion[0][\"content\"]\n",
    "        # Match if format is seen exactly!\n",
    "        if match_format.search(response) is not None: score += 3.0\n",
    "        scores.append(score)\n",
    "    return scores"
   ]
  },
  {
   "cell_type": "code",
   "execution_count": 18,
   "metadata": {},
   "outputs": [],
   "source": [
    "def match_format_approximately(completions, **kwargs):\n",
    "    scores = []\n",
    "    for completion in completions:\n",
    "        score = 0\n",
    "        response = completion[0][\"content\"]\n",
    "        # Count how many keywords are seen - we penalize if too many!\n",
    "        # If we see 1, then plus some points!\n",
    "        score += 0.5 if response.count(reasoning_start) == 1 else -0.5\n",
    "        score += 0.5 if response.count(reasoning_end)   == 1 else -0.5\n",
    "        score += 0.5 if response.count(solution_start)  == 1 else -0.5\n",
    "        score += 0.5 if response.count(solution_end)    == 1 else -0.5\n",
    "        scores.append(score)\n",
    "    return scores"
   ]
  },
  {
   "cell_type": "code",
   "execution_count": 19,
   "metadata": {},
   "outputs": [],
   "source": [
    "def check_option(prompts, completions, answer, **kwargs):\n",
    "    question = prompts[0][-1][\"content\"]\n",
    "    responses = [completion[0][\"content\"] for completion in completions]\n",
    "\n",
    "    # 正则表达式匹配选项字母\n",
    "    match_option = re.compile(\n",
    "        rf\"{solution_start}.*?([a-e]).*?{solution_end}\",\n",
    "        flags = re.MULTILINE | re.DOTALL\n",
    "    )\n",
    "\n",
    "    extracted_responses = [\n",
    "        option.group(1).lower()\n",
    "        if (option := match_option.search(r)) is not None else None\n",
    "        for r in responses\n",
    "    ]\n",
    "\n",
    "    scores = []\n",
    "    print('*'*20, f\"Question:\\n{question}\", f\"\\nAnswer:\\n{answer[0]}\", \n",
    "          f\"\\nResponse:\\n{responses[0]}\", f\"\\nExtracted:\\n{extracted_responses[0]}\")\n",
    "    \n",
    "    for guess, true_answer in zip(extracted_responses, answer):\n",
    "        if guess is None:\n",
    "            scores.append(-1.0)  # 没有找到选项\n",
    "            continue\n",
    "        # 直接字符串匹配\n",
    "        scores.append(3.0 if guess.lower() == true_answer.lower() else -1.0)\n",
    "    \n",
    "    return scores"
   ]
  }
 ],
 "metadata": {
  "kernelspec": {
   "display_name": "stats-safety",
   "language": "python",
   "name": "python3"
  },
  "language_info": {
   "codemirror_mode": {
    "name": "ipython",
    "version": 3
   },
   "file_extension": ".py",
   "mimetype": "text/x-python",
   "name": "python",
   "nbconvert_exporter": "python",
   "pygments_lexer": "ipython3",
   "version": "3.13.1"
  }
 },
 "nbformat": 4,
 "nbformat_minor": 2
}
